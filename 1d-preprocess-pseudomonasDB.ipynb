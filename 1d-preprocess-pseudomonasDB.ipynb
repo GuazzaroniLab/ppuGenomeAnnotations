{
 "cells": [
  {
   "cell_type": "markdown",
   "metadata": {},
   "source": [
    "# Preprocessing the PseudomonasDB file\n",
    "\n",
    "Since this file is pre-formatted as a tabular .csv table, we will just rename it and move to the output folder"
   ]
  },
  {
   "cell_type": "code",
   "execution_count": 1,
   "metadata": {},
   "outputs": [],
   "source": [
    "import gzip\n",
    "# specify the file path and current file name\n",
    "old = \"./data/pseudomonasDB/Pseudomonas_putida_KT2440_110.csv.gz\"\n",
    "new = \"./output/pseudomonasDB.csv\"\n",
    "\n",
    "with gzip.open(old, 'rb') as file:\n",
    "  with open(new, 'wb') as out:\n",
    "    out.write(file.read())\n"
   ]
  }
 ],
 "metadata": {
  "kernelspec": {
   "display_name": "Python 3",
   "language": "python",
   "name": "python3"
  },
  "language_info": {
   "codemirror_mode": {
    "name": "ipython",
    "version": 3
   },
   "file_extension": ".py",
   "mimetype": "text/x-python",
   "name": "python",
   "nbconvert_exporter": "python",
   "pygments_lexer": "ipython3",
   "version": "3.9.5"
  },
  "orig_nbformat": 4
 },
 "nbformat": 4,
 "nbformat_minor": 2
}
