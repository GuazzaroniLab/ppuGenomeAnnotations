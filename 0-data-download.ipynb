{
 "cells": [
  {
   "cell_type": "markdown",
   "metadata": {},
   "source": [
    "# Comparison of genomic databases for P.putida\n",
    "\n",
    "In this project I will gather genomic annotation information available in common databases (NCBI, Uniprot, etc.) in order to provide an assessment of the proportion of well- and poor- characterized genes found in the genome of P. putida, a synthetic biology workhorse."
   ]
  },
  {
   "cell_type": "markdown",
   "metadata": {},
   "source": [
    "## Retrieval of data"
   ]
  },
  {
   "cell_type": "markdown",
   "metadata": {},
   "source": [
    "### Prepare file structure"
   ]
  },
  {
   "cell_type": "code",
   "execution_count": null,
   "metadata": {},
   "outputs": [],
   "source": [
    "# imports\n",
    "from ftplib import FTP\n",
    "import os\n",
    "import requests\n",
    "import re\n",
    "\n",
    "# preparing the directory tree\n",
    "data_path = \"./data/\"\n",
    "out_path = \"./output/\"\n",
    "\n",
    "if not os.path.exists(data_path):\n",
    "  os.makedirs(data_path)\n",
    "\n",
    "if not os.path.exists(out_path):\n",
    "  os.makedirs(out_path)"
   ]
  },
  {
   "cell_type": "markdown",
   "metadata": {},
   "source": [
    "#### Download data from NCBI"
   ]
  },
  {
   "cell_type": "markdown",
   "metadata": {},
   "source": [
    "Genome annotation (AE015451.2) - GenBank"
   ]
  },
  {
   "cell_type": "code",
   "execution_count": null,
   "metadata": {},
   "outputs": [
    {
     "data": {
      "text/plain": [
       "'221 Goodbye.'"
      ]
     },
     "execution_count": 6,
     "metadata": {},
     "output_type": "execute_result"
    }
   ],
   "source": [
    "# creates the local directory where files will be downloaded\n",
    "os.makedirs(\"data/ncbi\", exist_ok=True)\n",
    "\n",
    "# starting the ftp connection\n",
    "ncbi = FTP('ftp.ncbi.nlm.nih.gov')\n",
    "ncbi.login()\n",
    "\n",
    "# changing the directory to where the reference genome is located \n",
    "directory = \"/genomes/genbank/bacteria/Pseudomonas_putida/all_assembly_versions/\"\n",
    "ncbi.cwd(directory)\n",
    "\n",
    "# downloading the reference files\n",
    "files = ncbi.nlst()\n",
    "\n",
    "for file in files:\n",
    "  if file[-5:] == \"756v2\":\n",
    "    ncbi.cwd(file)\n",
    "\n",
    "files = ncbi.nlst()\n",
    "\n",
    "for file in files:\n",
    "    remote_filename = file\n",
    "    local_filename = f\"data/ncbi/{file}\"\n",
    "\n",
    "    with open(local_filename, \"wb\") as f:\n",
    "        ncbi.retrbinary(f\"RETR {remote_filename}\", f.write)\n",
    "\n",
    "# closing the connection\n",
    "ncbi.quit()"
   ]
  },
  {
   "cell_type": "markdown",
   "metadata": {},
   "source": [
    "RefSeq (NC_002947.4)"
   ]
  },
  {
   "cell_type": "code",
   "execution_count": null,
   "metadata": {},
   "outputs": [
    {
     "data": {
      "text/plain": [
       "'221 Goodbye.'"
      ]
     },
     "execution_count": 5,
     "metadata": {},
     "output_type": "execute_result"
    }
   ],
   "source": [
    "# creates the local directory where files will be downloaded\n",
    "os.makedirs(\"data/refseq\", exist_ok=True)\n",
    "\n",
    "# starting the ftp connection\n",
    "ncbi = FTP('ftp.ncbi.nlm.nih.gov')\n",
    "ncbi.login()\n",
    "\n",
    "# changing the directory to where the reference genome is located \n",
    "directory = \"/genomes/all/GCF/000/007/565/GCF_000007565.2_ASM756v2/\"\n",
    "ncbi.cwd(directory)\n",
    "\n",
    "# downloading the reference files\n",
    "files = ncbi.nlst()\n",
    "\n",
    "for file in files:\n",
    "    remote_filename = file\n",
    "    local_filename = f\"data/refseq/{file}\"\n",
    "\n",
    "    with open(local_filename, \"wb\") as f:\n",
    "        ncbi.retrbinary(f\"RETR {remote_filename}\", f.write)\n",
    "\n",
    "# closing the connection\n",
    "ncbi.quit()"
   ]
  }
 ],
 "metadata": {
  "kernelspec": {
   "display_name": "Python 3",
   "language": "python",
   "name": "python3"
  },
  "language_info": {
   "codemirror_mode": {
    "name": "ipython",
    "version": 3
   },
   "file_extension": ".py",
   "mimetype": "text/x-python",
   "name": "python",
   "nbconvert_exporter": "python",
   "pygments_lexer": "ipython3",
   "version": "3.9.5"
  },
  "orig_nbformat": 4
 },
 "nbformat": 4,
 "nbformat_minor": 2
}
