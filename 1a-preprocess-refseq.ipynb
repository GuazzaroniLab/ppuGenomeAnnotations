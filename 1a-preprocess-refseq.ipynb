{
 "cells": [
  {
   "cell_type": "code",
   "execution_count": 2,
   "metadata": {},
   "outputs": [],
   "source": [
    "# Convert featureTable into tabular data"
   ]
  },
  {
   "cell_type": "code",
   "execution_count": 1,
   "metadata": {},
   "outputs": [],
   "source": [
    "import pandas as pd"
   ]
  },
  {
   "cell_type": "code",
   "execution_count": 2,
   "metadata": {},
   "outputs": [
    {
     "name": "stdout",
     "output_type": "stream",
     "text": [
      "  # feature           class  start   end strand product_accession  \\\n",
      "0      gene  protein_coding    147  1019      -               NaN   \n",
      "1       CDS    with_protein    147  1019      -    WP_003253185.1   \n",
      "2      gene  protein_coding   1029  1820      -               NaN   \n",
      "3       CDS    with_protein   1029  1820      -    WP_003253182.1   \n",
      "4      gene  protein_coding   1839  2489      -               NaN   \n",
      "\n",
      "  non-redundant_refseq  related_accession  \\\n",
      "0                  NaN                NaN   \n",
      "1       WP_003253185.1                NaN   \n",
      "2                  NaN                NaN   \n",
      "3       WP_003253182.1                NaN   \n",
      "4                  NaN                NaN   \n",
      "\n",
      "                                       name symbol  GeneID   locus_tag  \\\n",
      "0                                       NaN    NaN     NaN  PP_RS00005   \n",
      "1  ParB/RepB/Spo0J family partition protein    NaN     NaN  PP_RS00005   \n",
      "2                                       NaN    NaN     NaN  PP_RS00010   \n",
      "3                       ParA family protein    NaN     NaN  PP_RS00010   \n",
      "4                                       NaN   rsmG     NaN  PP_RS00015   \n",
      "\n",
      "   feature_interval_length  product_length             attributes  \n",
      "0                      873             NaN  old_locus_tag=PP_0001  \n",
      "1                      873           290.0                    NaN  \n",
      "2                      792             NaN  old_locus_tag=PP_0002  \n",
      "3                      792           263.0                    NaN  \n",
      "4                      651             NaN  old_locus_tag=PP_0003  \n"
     ]
    }
   ],
   "source": [
    "path = \"data/refseq/GCF_000007565.2_ASM756v2_feature_table.txt.gz\"\n",
    "df = pd.read_table(path)\n",
    "\n",
    "df.drop(columns = ['assembly', 'assembly_unit', 'seq_type', 'chromosome', 'genomic_accession'], inplace=True)\n",
    "\n",
    "print(df.head())"
   ]
  },
  {
   "cell_type": "code",
   "execution_count": 3,
   "metadata": {},
   "outputs": [
    {
     "name": "stdout",
     "output_type": "stream",
     "text": [
      "     feature_gene      class_gene    start      end strand symbol   locus_tag  \\\n",
      "0            gene  protein_coding      147     1019      -    NaN  PP_RS00005   \n",
      "1            gene  protein_coding     1029     1820      -    NaN  PP_RS00010   \n",
      "2            gene  protein_coding     1839     2489      -   rsmG  PP_RS00015   \n",
      "3            gene  protein_coding     2486     4378      -   mnmG  PP_RS00020   \n",
      "4            gene  protein_coding     5012     6382      -   mnmE  PP_RS00025   \n",
      "...           ...             ...      ...      ...    ...    ...         ...   \n",
      "5692         gene  protein_coding  6181463  6181870      -    NaN  PP_RS28245   \n",
      "5693          NaN             NaN  1700460  1701555      +   prfB  PP_RS07705   \n",
      "5694          NaN             NaN  3376573  3377786      +    NaN  PP_RS15420   \n",
      "5695          NaN             NaN  5000914  5001769      +    NaN  PP_RS22875   \n",
      "5696          NaN             NaN  5014190  5015352      +    NaN  PP_RS22940   \n",
      "\n",
      "      feature_interval_length attributes_gene feature_product class_product  \\\n",
      "0                         873   old_locus_tag             CDS  with_protein   \n",
      "1                         792   old_locus_tag             CDS  with_protein   \n",
      "2                         651   old_locus_tag             CDS  with_protein   \n",
      "3                        1893   old_locus_tag             CDS  with_protein   \n",
      "4                        1371   old_locus_tag             CDS  with_protein   \n",
      "...                       ...             ...             ...           ...   \n",
      "5692                      408   old_locus_tag             CDS  with_protein   \n",
      "5693                     1095             NaN             CDS  with_protein   \n",
      "5694                     1215             NaN             CDS  with_protein   \n",
      "5695                      855             NaN             CDS  with_protein   \n",
      "5696                     1164             NaN             CDS  with_protein   \n",
      "\n",
      "     product_accession_product non-redundant_refseq_product  \\\n",
      "0               WP_003253185.1               WP_003253185.1   \n",
      "1               WP_003253182.1               WP_003253182.1   \n",
      "2               WP_003253179.1               WP_003253179.1   \n",
      "3               WP_049588470.1               WP_049588470.1   \n",
      "4               WP_010951424.1               WP_010951424.1   \n",
      "...                        ...                          ...   \n",
      "5692            WP_010955890.1               WP_010955890.1   \n",
      "5693            WP_061405587.1               WP_061405587.1   \n",
      "5694            WP_088171445.1               WP_088171445.1   \n",
      "5695            WP_110771809.1               WP_110771809.1   \n",
      "5696            WP_110771811.1               WP_110771811.1   \n",
      "\n",
      "                                           name_product  \\\n",
      "0              ParB/RepB/Spo0J family partition protein   \n",
      "1                                   ParA family protein   \n",
      "2     16S rRNA (guanine(527)-N(7))-methyltransferase...   \n",
      "3     tRNA uridine-5-carboxymethylaminomethyl(34) sy...   \n",
      "4     tRNA uridine-5-carboxymethylaminomethyl(34) sy...   \n",
      "...                                                 ...   \n",
      "5692                        F0F1 ATP synthase subunit I   \n",
      "5693                     peptide chain release factor 2   \n",
      "5694                             IS3 family transposase   \n",
      "5695                             IS5 family transposase   \n",
      "5696                             IS3 family transposase   \n",
      "\n",
      "      product_length_product  attributes_product old_locus_tag  \n",
      "0                      290.0                 NaN       PP_0001  \n",
      "1                      263.0                 NaN       PP_0002  \n",
      "2                      216.0                 NaN       PP_0003  \n",
      "3                      630.0                 NaN       PP_0004  \n",
      "4                      456.0                 NaN       PP_0005  \n",
      "...                      ...                 ...           ...  \n",
      "5692                   135.0                 NaN       PP_5420  \n",
      "5693                   364.0  ribosomal_slippage           NaN  \n",
      "5694                   404.0  ribosomal_slippage           NaN  \n",
      "5695                   284.0  ribosomal_slippage           NaN  \n",
      "5696                   387.0  ribosomal_slippage           NaN  \n",
      "\n",
      "[5697 rows x 17 columns]\n"
     ]
    }
   ],
   "source": [
    "gene = df[df['# feature'].str.contains('gene')]\n",
    "product = df[df['# feature'].str.contains('gene') == False]\n",
    "\n",
    "wide = gene.merge(product, on=['locus_tag', 'start', 'end', 'strand', 'symbol', 'feature_interval_length'], how='outer',suffixes=['_gene','_product'])\n",
    "\n",
    "# Identify constant columns and remove them\n",
    "constant_columns = [col for col in wide.columns if wide[col].isnull().all()]\n",
    "wide.drop(labels = constant_columns, axis = 1, inplace=True)\n",
    "\n",
    "# separat\n",
    "wide[['attributes_gene', 'old_locus_tag']] = wide['attributes_gene'].str.split(\"=\", expand = True)\n",
    "\n",
    "# remove forbidden characters (#) from the column names\n",
    "wide.columns = wide.columns.str.replace(r'# ', '')\n",
    "\n",
    "# Display constant columns\n",
    "print(wide)\n",
    "\n"
   ]
  },
  {
   "cell_type": "code",
   "execution_count": 4,
   "metadata": {},
   "outputs": [],
   "source": [
    "wide.to_csv(\"output/refseq.tsv\", sep=\"\\t\", index=False)"
   ]
  }
 ],
 "metadata": {
  "kernelspec": {
   "display_name": "Python 3",
   "language": "python",
   "name": "python3"
  },
  "language_info": {
   "codemirror_mode": {
    "name": "ipython",
    "version": 3
   },
   "file_extension": ".py",
   "mimetype": "text/x-python",
   "name": "python",
   "nbconvert_exporter": "python",
   "pygments_lexer": "ipython3",
   "version": "3.9.5"
  },
  "orig_nbformat": 4
 },
 "nbformat": 4,
 "nbformat_minor": 2
}
