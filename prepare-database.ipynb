{
 "cells": [
  {
   "cell_type": "markdown",
   "metadata": {},
   "source": [
    "# Prepare database\n",
    "\n",
    "In this notebook I will write the general steps for creating and populating the relational database **putidafeatures.db**, that will compose the bulk of this work, starting from the data downloaded elsewhere"
   ]
  },
  {
   "cell_type": "code",
   "execution_count": 1,
   "metadata": {},
   "outputs": [],
   "source": [
    "# import\n",
    "import os\n",
    "import re\n",
    "import json\n",
    "import sqlite3\n",
    "import gffutils\n",
    "import pandas as pd\n",
    "import seaborn as sns\n",
    "import matplotlib.pyplot as plt"
   ]
  },
  {
   "cell_type": "code",
   "execution_count": null,
   "metadata": {},
   "outputs": [],
   "source": [
    "# connects to the database\n",
    "conn = sqlite3.connect(\"data/putidafeatures.db\")\n",
    "\n",
    "# creates a cursor\n",
    "c = conn.cursor"
   ]
  },
  {
   "cell_type": "markdown",
   "metadata": {},
   "source": [
    "With the database now connected, we can open the files present in the `data/` directory and start populating the **putidafeatures.db**.\n",
    "\n",
    "For parsing data from the GFF file provided by NCBI I'm using [gffutils](https://daler.github.io/gffutils/)"
   ]
  },
  {
   "cell_type": "code",
   "execution_count": 11,
   "metadata": {},
   "outputs": [],
   "source": [
    "# from the ncbi file\n",
    "basedir = \"data/ncbi\"\n",
    "\n",
    "# Specify the path to the .gff file containing all features relevant to putida\n",
    "gff_match = ''.join(f for f in os.listdir(basedir) if f.endswith(\".gff.gz\"))\n",
    "\n",
    "db = gffutils.create_db(f'{basedir}/{gff_match}', \"ncbi_database.db\", merge_strategy='create_unique')\n",
    "\n",
    "# merge_strategy was needed because AMM02805.1 (and possibly more) is duplicated in the file!\n"
   ]
  },
  {
   "cell_type": "markdown",
   "metadata": {},
   "source": [
    "Now that we have created an sqlite3 table out of the entire gff file, we can explore it to extract relevant information regarding the state of P. putida's annotated genome. First, let's discover how the database is organized"
   ]
  },
  {
   "cell_type": "code",
   "execution_count": 2,
   "metadata": {},
   "outputs": [
    {
     "name": "stdout",
     "output_type": "stream",
     "text": [
      "features\n",
      "relations\n",
      "meta\n",
      "directives\n",
      "autoincrements\n",
      "duplicates\n",
      "sqlite_stat1\n"
     ]
    }
   ],
   "source": [
    "# Connect to the SQLite database\n",
    "db = sqlite3.connect(\"ncbi_database.db\")\n",
    "\n",
    "# Create a cursor\n",
    "cursor = db.cursor()\n",
    "\n",
    "# Execute an SQL query to list all tables\n",
    "cursor.execute(\"SELECT name FROM sqlite_master WHERE type='table';\")\n",
    "\n",
    "# Fetch the table names\n",
    "tables = cursor.fetchall()\n",
    "\n",
    "# Display the table names\n",
    "for table in tables:\n",
    "    print(table[0])\n"
   ]
  },
  {
   "cell_type": "markdown",
   "metadata": {},
   "source": [
    "By the output above we can see that the database has 7 items (features, relations, meta, directives, autoincrements, duplicates, sqlite_stat1). We can investigate them further by figuring out how the first few records look like "
   ]
  },
  {
   "cell_type": "code",
   "execution_count": 3,
   "metadata": {},
   "outputs": [
    {
     "name": "stdout",
     "output_type": "stream",
     "text": [
      "contents for table: features\n",
      "('AE015451.2:1..6181873', 'AE015451.2', 'Genbank', 'region', 1, 6181873, '.', '+', '.', '{\"ID\":[\"AE015451.2:1..6181873\"],\"Dbxref\":[\"taxon:160488\"],\"Is_circular\":[\"true\"],\"Name\":[\"ANONYMOUS\"],\"gbkey\":[\"Src\"],\"genome\":[\"chromosome\"],\"mol_type\":[\"genomic DNA\"],\"strain\":[\"KT2440\"]}', '[]', 73)\n",
      "('gene-PP_0001', 'AE015451.2', 'Genbank', 'gene', 147, 1019, '.', '-', '.', '{\"ID\":[\"gene-PP_0001\"],\"Name\":[\"parB\"],\"gbkey\":[\"Gene\"],\"gene\":[\"parB\"],\"gene_biotype\":[\"protein_coding\"],\"locus_tag\":[\"PP_0001\"]}', '[]', 4681)\n",
      "('cds-AAN65635.1', 'AE015451.2', 'Genbank', 'CDS', 147, 1019, '.', '-', '0', '{\"ID\":[\"cds-AAN65635.1\"],\"Parent\":[\"gene-PP_0001\"],\"Dbxref\":[\"NCBI_GP:AAN65635.1\"],\"Name\":[\"AAN65635.1\"],\"Note\":[\"Evidence 2a : Function of homologous gene experimentally demonstrated in an other organism; PubMedId : 16306995, 17462018, 17729285; Product type pf : putative factor; Biologicalprocesses : Replicate\"],\"gbkey\":[\"CDS\"],\"gene\":[\"parB\"],\"locus_tag\":[\"PP_0001\"],\"product\":[\"probable chromosome-partitioning protein\"],\"protein_id\":[\"AAN65635.1\"],\"transl_table\":[\"11\"]}', '[]', 4681)\n",
      "\n",
      "contents for table: relations\n",
      "('gene-PP_0001', 'cds-AAN65635.1', 1)\n",
      "('gene-PP_0002', 'cds-AAN65636.1', 1)\n",
      "('gene-PP_0003', 'cds-AAN65637.1', 1)\n",
      "\n",
      "contents for table: meta\n",
      "('{\"leading semicolon\":false,\"trailing semicolon\":false,\"quoted GFF2 values\":false,\"field separator\":\";\",\"keyval separator\":\"=\",\"multival separator\":\",\",\"fmt\":\"gff3\",\"repeated keys\":false,\"order\":[\"ID\",\"Dbxref\",\"Is_circular\",\"Name\",\"gbkey\",\"genome\",\"mol_type\",\"strain\",\"gene\",\"gene_biotype\",\"locus_tag\",\"Parent\",\"Note\",\"product\",\"protein_id\",\"transl_table\"]}', '0.12')\n",
      "\n",
      "contents for table: directives\n",
      "('gff-version 3',)\n",
      "('sequence-region AE015451.2 1 6181873',)\n",
      "('species https://www.ncbi.nlm.nih.gov/Taxonomy/Browser/wwwtax.cgi?id=160488',)\n",
      "\n",
      "contents for table: autoincrements\n",
      "('cds-AMM02805.1', 1)\n",
      "\n",
      "contents for table: duplicates\n",
      "\n",
      "contents for table: sqlite_stat1\n",
      "('features', 'seqidstartendstrand', '11682 11682 3 3 3')\n",
      "('features', 'seqidstartend', '11682 11682 3 3')\n",
      "('features', 'featuretype', '11682 1169')\n",
      "\n"
     ]
    }
   ],
   "source": [
    "table_names = [item[0] for item in tables]\n",
    "\n",
    "for table in table_names:\n",
    "  print(f'contents for table: {table}')\n",
    "\n",
    "  cursor.execute(f\"SELECT * FROM {table} LIMIT 3;\")\n",
    "\n",
    "  rows = cursor.fetchall()\n",
    "\n",
    "  for row in rows:\n",
    "    print(row)\n",
    "\n",
    "  print()\n",
    "  "
   ]
  },
  {
   "cell_type": "markdown",
   "metadata": {},
   "source": [
    "From the output above, we can see two immediately interesting tables: the table *relations*, which seems to provide an interesting lookup table for converting between locus tag and transcript name; and the table *features*, that contain the bulk of information provided in the GFF file. We are going to look deeper into the *features* table, looking for quantitative and qualitative information regarding genes throughout the genome."
   ]
  },
  {
   "cell_type": "markdown",
   "metadata": {},
   "source": [
    "## A deeper dive into the 'features' table"
   ]
  },
  {
   "cell_type": "markdown",
   "metadata": {},
   "source": [
    "Due to the way GFF files work, we will want to retrieve the records containing"
   ]
  },
  {
   "cell_type": "code",
   "execution_count": 4,
   "metadata": {},
   "outputs": [],
   "source": [
    "query = f\"SELECT attributes FROM features WHERE id LIKE 'cds-%'\"\n",
    "#query = f\"PRAGMA table_info(features)\"\n",
    "\n",
    "cursor.execute(query)\n",
    "\n",
    "attr = cursor.fetchall()\n",
    "\n",
    "attr_parsed = [json.loads(item[0]) for item in attr]"
   ]
  },
  {
   "cell_type": "code",
   "execution_count": 5,
   "metadata": {},
   "outputs": [
    {
     "data": {
      "text/plain": [
       "('PP_0650', 'Evidence 7 : Gene remnant')"
      ]
     },
     "execution_count": 5,
     "metadata": {},
     "output_type": "execute_result"
    }
   ],
   "source": [
    "# obtaining information for the evidence level of each gene, according to the NCBI convention\n",
    "\n",
    "ev_info = []\n",
    "\n",
    "for item in attr_parsed:\n",
    "   locus_tag =  item.get('locus_tag')\n",
    "   note = item.get('Note')\n",
    "\n",
    "   if locus_tag is not None:\n",
    "    if note is None:\n",
    "        ev_info.append((locus_tag[0], \"Evidence zz : not reported;\"))\n",
    "    else:\n",
    "        ev_info.append((locus_tag[0], note[0]))\n",
    "\n",
    "ev_info[671]"
   ]
  },
  {
   "cell_type": "markdown",
   "metadata": {},
   "source": [
    "Now that we have isolated the evidence notes for every gene in P. putida's genome, we can try to understand the distribution of annotation quality for every gene in P. putida's genome. For this, we will use pandas dataframes and seaborn for visualizaiton."
   ]
  },
  {
   "cell_type": "code",
   "execution_count": 6,
   "metadata": {},
   "outputs": [
    {
     "name": "stdout",
     "output_type": "stream",
     "text": [
      "   evidence_code  Count\n",
      "0             1a     77\n",
      "1             1b    103\n",
      "2             1c    155\n",
      "3             2a    849\n",
      "4             2b    175\n",
      "5              3    896\n",
      "6              4   1494\n",
      "7              5     79\n",
      "8              6     24\n",
      "9              7      1\n",
      "10            zz   1712\n",
      "['Evidence 2a : Function of homologous gene experimentally demonstrated in an other organism'\n",
      " 'Evidence 2b : Function of strongly homologous gene'\n",
      " 'Evidence 4 : Homologs of previously reported genes of unknown function'\n",
      " 'Evidence 1b : Function experimentally demonstrated in the studied species'\n",
      " 'Evidence 3 : Function proposed based on presence of conserved amino acid motif, structural feature or limited homology'\n",
      " 'Evidence 5 : No homology to any previously reported sequences'\n",
      " 'Evidence 1c : Function experimentally demonstrated in the studied genus'\n",
      " 'Evidence zz : not reported'\n",
      " 'Evidence 1a : Function experimentally demonstrated in the studied strain'\n",
      " 'Evidence 6 : Doubtful CDS' 'Evidence 7 : Gene remnant']\n"
     ]
    }
   ],
   "source": [
    "ev_df = pd.DataFrame(ev_info, columns=[\"locus_tag\", \"evidence_type\"])\n",
    "\n",
    "# the evidence code will always be present due to our previous \n",
    "ev_df['evidence_code'] = ev_df['evidence_type'].str.extract(r'Evidence\\s(.*?)\\s:', expand=False)\n",
    "\n",
    "ev_df['evidence_description'] = ev_df['evidence_type'].str.extract(r'(Evidence.*?(?=;)|Evidence.*?$)', expand=False)\n",
    "\n",
    "# obtaining counts\n",
    "summary = ev_df.groupby(\"evidence_code\").size().reset_index(name=\"Count\")\n",
    "print(summary)\n",
    "\n",
    "# printing the code meaning\n",
    "print(ev_df['evidence_description'].unique())\n",
    "\n",
    "## todo: this does not include genes with NA!!"
   ]
  },
  {
   "cell_type": "code",
   "execution_count": 8,
   "metadata": {},
   "outputs": [
    {
     "name": "stderr",
     "output_type": "stream",
     "text": [
      "/tmp/ipykernel_64917/3256081035.py:4: FutureWarning: \n",
      "\n",
      "The `ci` parameter is deprecated. Use `errorbar=None` for the same effect.\n",
      "\n",
      "  sns.barplot(x='evidence_code', y='Count', hue='evidence_code', data=summary, ci=None)\n"
     ]
    },
    {
     "data": {
      "image/png": "[encoded data removed]",
      "text/plain": [
       "<Figure size 576x432 with 1 Axes>"
      ]
     },
     "metadata": {},
     "output_type": "display_data"
    }
   ],
   "source": [
    "sns.set(style=\"whitegrid\")\n",
    "plt.figure(figsize=(8, 6))\n",
    "\n",
    "sns.barplot(x='evidence_code', y='Count', hue='evidence_code', data=summary, ci=None)\n",
    "\n",
    "plt.xlabel(\"Group\")\n",
    "plt.ylabel(\"Value\")\n",
    "plt.title(\"Stacked Barplot\")\n",
    "\n",
    "plt.show()\n"
   ]
  },
  {
   "cell_type": "code",
   "execution_count": null,
   "metadata": {},
   "outputs": [],
   "source": [
    "# what are the genes without homology to any previously reported sequences?"
   ]
  }
 ],
 "metadata": {
  "kernelspec": {
   "display_name": "Python 3",
   "language": "python",
   "name": "python3"
  },
  "language_info": {
   "codemirror_mode": {
    "name": "ipython",
    "version": 3
   },
   "file_extension": ".py",
   "mimetype": "text/x-python",
   "name": "python",
   "nbconvert_exporter": "python",
   "pygments_lexer": "ipython3",
   "version": "3.9.5"
  },
  "orig_nbformat": 4
 },
 "nbformat": 4,
 "nbformat_minor": 2
}
