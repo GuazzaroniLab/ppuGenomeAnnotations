{
 "cells": [
  {
   "cell_type": "code",
   "execution_count": 2,
   "metadata": {},
   "outputs": [],
   "source": [
    "# Convert featureTable into tabular data"
   ]
  },
  {
   "cell_type": "code",
   "execution_count": 1,
   "metadata": {},
   "outputs": [],
   "source": [
    "import pandas as pd"
   ]
  },
  {
   "cell_type": "code",
   "execution_count": 2,
   "metadata": {},
   "outputs": [
    {
     "name": "stdout",
     "output_type": "stream",
     "text": [
      "  # feature           class  start   end strand product_accession  \\\n",
      "0      gene  protein_coding    147  1019      -               NaN   \n",
      "1       CDS    with_protein    147  1019      -        AAN65635.1   \n",
      "2      gene  protein_coding   1029  1820      -               NaN   \n",
      "3       CDS    with_protein   1029  1820      -        AAN65636.1   \n",
      "4      gene  protein_coding   1839  2489      -               NaN   \n",
      "\n",
      "   non-redundant_refseq  related_accession  \\\n",
      "0                   NaN                NaN   \n",
      "1                   NaN                NaN   \n",
      "2                   NaN                NaN   \n",
      "3                   NaN                NaN   \n",
      "4                   NaN                NaN   \n",
      "\n",
      "                                       name symbol  GeneID locus_tag  \\\n",
      "0                                       NaN   parB     NaN   PP_0001   \n",
      "1  probable chromosome-partitioning protein   parB     NaN   PP_0001   \n",
      "2                                       NaN   parA     NaN   PP_0002   \n",
      "3     probable chromosome partition protein   parA     NaN   PP_0002   \n",
      "4                                       NaN   rsmG     NaN   PP_0003   \n",
      "\n",
      "   feature_interval_length  product_length attributes  \n",
      "0                      873             NaN        NaN  \n",
      "1                      873           290.0        NaN  \n",
      "2                      792             NaN        NaN  \n",
      "3                      792           263.0        NaN  \n",
      "4                      651             NaN        NaN  \n"
     ]
    }
   ],
   "source": [
    "path = \"data/ncbi/GCA_000007565.2_ASM756v2_feature_table.txt.gz\"\n",
    "df = pd.read_table(path)\n",
    "\n",
    "df.drop(columns = ['assembly', 'assembly_unit', 'seq_type', 'chromosome', 'genomic_accession'], inplace=True)\n",
    "\n",
    "print(df.head())"
   ]
  },
  {
   "cell_type": "code",
   "execution_count": 3,
   "metadata": {},
   "outputs": [
    {
     "name": "stdout",
     "output_type": "stream",
     "text": [
      "     feature_gene      class_gene    start      end strand symbol locus_tag  \\\n",
      "0            gene  protein_coding      147     1019      -   parB   PP_0001   \n",
      "1            gene  protein_coding     1029     1820      -   parA   PP_0002   \n",
      "2            gene  protein_coding     1839     2489      -   rsmG   PP_0003   \n",
      "3            gene  protein_coding     2486     4381      -   trmF   PP_0004   \n",
      "4            gene  protein_coding     5012     6382      -   trmE   PP_0005   \n",
      "...           ...             ...      ...      ...    ...    ...       ...   \n",
      "5782         gene  protein_coding  6179648  6180118      -   atpF   PP_5417   \n",
      "5783         gene  protein_coding  6180175  6180432      -   atpE   PP_5418   \n",
      "5784         gene  protein_coding  6180577  6181446      -   atpB   PP_5419   \n",
      "5785         gene  protein_coding  6181463  6181870      -   atpI   PP_5420   \n",
      "5786          NaN             NaN  1700460  1701555      +   prfB   PP_1495   \n",
      "\n",
      "      feature_interval_length attributes_gene feature_product class_product  \\\n",
      "0                         873             NaN             CDS  with_protein   \n",
      "1                         792             NaN             CDS  with_protein   \n",
      "2                         651             NaN             CDS  with_protein   \n",
      "3                        1896             NaN             CDS  with_protein   \n",
      "4                        1371             NaN             CDS  with_protein   \n",
      "...                       ...             ...             ...           ...   \n",
      "5782                      471             NaN             CDS  with_protein   \n",
      "5783                      258             NaN             CDS  with_protein   \n",
      "5784                      870             NaN             CDS  with_protein   \n",
      "5785                      408             NaN             CDS  with_protein   \n",
      "5786                     1095             NaN             CDS  with_protein   \n",
      "\n",
      "     product_accession_product  \\\n",
      "0                   AAN65635.1   \n",
      "1                   AAN65636.1   \n",
      "2                   AAN65637.1   \n",
      "3                   AAN65638.1   \n",
      "4                   AAN65639.1   \n",
      "...                        ...   \n",
      "5782                AAN70981.1   \n",
      "5783                AAN70982.1   \n",
      "5784                AAN70983.1   \n",
      "5785                AAN70984.1   \n",
      "5786                AMM02805.1   \n",
      "\n",
      "                                           name_product  \\\n",
      "0              probable chromosome-partitioning protein   \n",
      "1                 probable chromosome partition protein   \n",
      "2                             16S RNA methyltransferase   \n",
      "3     tRNA uridine 5-carboxymethylaminomethyl modifi...   \n",
      "4                                                GTPase   \n",
      "...                                                 ...   \n",
      "5782                             ATP synthase subunit b   \n",
      "5783                             ATP synthase subunit c   \n",
      "5784                             ATP synthase subunit a   \n",
      "5785                             ATP synthase protein I   \n",
      "5786                     peptide chain release factor 2   \n",
      "\n",
      "      product_length_product  attributes_product  \n",
      "0                      290.0                 NaN  \n",
      "1                      263.0                 NaN  \n",
      "2                      216.0                 NaN  \n",
      "3                      631.0                 NaN  \n",
      "4                      456.0                 NaN  \n",
      "...                      ...                 ...  \n",
      "5782                   156.0                 NaN  \n",
      "5783                    85.0                 NaN  \n",
      "5784                   289.0                 NaN  \n",
      "5785                   135.0                 NaN  \n",
      "5786                   364.0  ribosomal_slippage  \n",
      "\n",
      "[5787 rows x 15 columns]\n"
     ]
    }
   ],
   "source": [
    "gene = df[df['# feature'].str.contains('gene')]\n",
    "product = df[df['# feature'].str.contains('gene') == False]\n",
    "\n",
    "wide = gene.merge(product, on=['locus_tag', 'start', 'end', 'strand', 'symbol', 'feature_interval_length'], how='outer',suffixes=['_gene','_product'])\n",
    "\n",
    "# Identify constant columns and remove them\n",
    "constant_columns = [col for col in wide.columns if wide[col].isnull().all()]\n",
    "wide.drop(labels = constant_columns, axis = 1, inplace=True)\n",
    "\n",
    "# remove forbidden characters (#) from the column names\n",
    "wide.columns = wide.columns.str.replace(r'# ', '')\n",
    "\n",
    "print(wide)\n",
    "\n"
   ]
  },
  {
   "cell_type": "code",
   "execution_count": 4,
   "metadata": {},
   "outputs": [],
   "source": [
    "wide.to_csv(\"output/ncbi.tsv\", sep=\"\\t\", index=False)"
   ]
  }
 ],
 "metadata": {
  "kernelspec": {
   "display_name": "Python 3",
   "language": "python",
   "name": "python3"
  },
  "language_info": {
   "codemirror_mode": {
    "name": "ipython",
    "version": 3
   },
   "file_extension": ".py",
   "mimetype": "text/x-python",
   "name": "python",
   "nbconvert_exporter": "python",
   "pygments_lexer": "ipython3",
   "version": "3.9.5"
  },
  "orig_nbformat": 4
 },
 "nbformat": 4,
 "nbformat_minor": 2
}
